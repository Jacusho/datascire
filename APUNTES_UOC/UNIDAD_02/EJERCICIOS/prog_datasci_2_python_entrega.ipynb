{
 "cells": [
  {
   "cell_type": "markdown",
   "metadata": {},
   "source": [
    "Programación para *Data Science*\n",
    "============================\n",
    "\n",
    "Unidad 2: Breve introducción a la programación en Python\n",
    "-----------------------------------------------------\n",
    "\n",
    "# Introducción\n",
    "\n",
    "En este Notebook encontraréis dos conjuntos de ejercicios: un primer conjunto de **ejercicios para practicar** y un segundo conjunto de **actividades evaluables** como PEC de la asignatura.\n",
    "\n",
    "En cuanto al conjunto de ejercicios para practicar, éstos no puntúan para la PEC, pero os recomendamos que los intentéis resolver como parte del proceso de aprendizaje. Encontraréis ejemplos de posibles soluciones a los ejercicios al propio notebook, pero es importante que intentéis resolverlos vosotros antes de consultar las soluciones. Las soluciones os permitirán validar vuestras respuestas, así como ver alternativas de resolución de las actividades. También os animamos a preguntar cualquier duda que surja sobre la resolución de los **ejercicios para practicar** en el foro del aula.\n",
    "\n",
    "En relación a las actividades evaluables, veréis que cada una de ellas tiene asociada una puntuación que indica el peso que tiene la actividad sobre la nota de la PEC. Adicionalmente, hay un ejercicio opcional, que no tiene puntuación dentro de la PEC, pero que se valora al final del semestre de cara a conceder las matrículas de honor y redondear las notas finales. Podéis sacar la máxima nota de la PEC sin necesidad de hacer este ejercicio! El objetivo de este ejercicio es que sirva como pequeño reto para los estudiantes que quieran profundizar en el contenido de la asignatura.\n",
    "\n",
    "Además, veréis que todas las actividades tienen una etiqueta que indica los recursos necesarios para llevarla a cabo. Hay tres posibles etiquetas:\n",
    "\n",
    "* <span style=\"font-family: Courier New; background-color: #82b74b; color: #000000; padding: 3px; \">NM</span> **Sólo materiales**: las herramientas necesarias para realizar la actividad se pueden encontrar en los materiales de la asignatura. \n",
    "\n",
    "* <span style=\"font-family: Courier New; background-color: #ffcc5c; color: #000000; padding: 3px; \">EG</span> **Consulta externa guiada**: la actividad puede requerir hacer uso de herramientas que no se encuentran en los materiales de la asignatura, pero el enunciado contiene indicaciones de dónde o cómo encontrar la información adicional necesaria para resolver la actividad.\n",
    "\n",
    "* <span style=\"font-family: Courier New; background-color: #f2ae72; color: #000000; padding: 3px; \">EI</span> **Consulta externa independente**: la actividad puede requerir hacer uso de herramientas que no se encuentran en los materiales de la asignatura, y el enunciado puede no incluir la descripción de dónde o cómo encontrar esta información adicional. Será necesario que el estudiante busque esta información utilizando los recursos que se han explicado en la asignatura.\n",
    "\n",
    "Es importante notar que estas etiquetas no indican el nivel de dificultad del ejercicio, sino únicamente la necesidad de consulta de documentación externa para su resolución. Además, recordad que las **etiquetas son informativas**, pero podréis consultar referencias externas en cualquier momento (aunque no se indique explícitamente) o puede ser que podáis hacer una actividad sin consultar ningún tipo de documentación. Por ejemplo, para resolver una actividad que sólo requiera los materiales de la asignatura, puedéis consultar referencias externas si queréis, ya sea tanto para ayudaros en la resolución como para ampliar el conocimiento!\n",
    "\n",
    "En cuanto a la consulta de documentación externa en la resolución de los ejercicios, recordad **citar siempre la bibliografía utilizada** para resolver cada actividad.\n"
   ]
  },
  {
   "cell_type": "markdown",
   "metadata": {},
   "source": [
    "---"
   ]
  },
  {
   "cell_type": "markdown",
   "metadata": {},
   "source": [
    "## Ejercicios para practicar\n",
    "\n",
    "**Los siguientes 3 ejercicios no puntúan para la PEC**, pero os recomendamos que los intentéis resolver antes de pasar a los ejercicios propios de la PAC. También encontraréis las soluciones a estos ejercicios al final del Notebook."
   ]
  },
  {
   "cell_type": "markdown",
   "metadata": {},
   "source": [
    "### Ejercicio 1\n",
    "\n",
    "Escribir un programa que defina una lista los valores con los nombres de los días de la semana. Haz que muestre el primero y\n",
    "el penúltimo día de la semana. <span style=\"font-family: Courier New; background-color: #82b74b; color: #000000; padding: 3px; \">NM</span>"
   ]
  },
  {
   "cell_type": "code",
   "execution_count": 1,
   "metadata": {},
   "outputs": [],
   "source": [
    "# Respuesta"
   ]
  },
  {
   "cell_type": "markdown",
   "metadata": {},
   "source": [
    "### Ejercicio 2\n",
    "\n",
    "Escribir una expresión en Python que muestre la siguiente salida por pantalla:"
   ]
  },
  {
   "cell_type": "raw",
   "metadata": {},
   "source": [
    "Hello\n",
    "\n",
    "    Python"
   ]
  },
  {
   "cell_type": "markdown",
   "metadata": {},
   "source": [
    "(Tened en cuenta que hay un salto de línea entre las dos palabras y que la palabra \"Python\" está tabulada hacia la derecha) <span style=\"font-family: Courier New; background-color: #ffcc5c; color: #000000; padding: 3px; \">EG</span>\n",
    "\n",
    "**Nota**: En el notebook de teoría hemos visto cómo crear cadenas de caracteres. Para hacer la actividad, tendréis que investigar cómo incluir saltos de línea y tabulaciones en estas cadenas!"
   ]
  },
  {
   "cell_type": "code",
   "execution_count": null,
   "metadata": {},
   "outputs": [],
   "source": [
    "# Respuesta"
   ]
  },
  {
   "cell_type": "markdown",
   "metadata": {},
   "source": [
    "### Ejercicio 3\n",
    "\n",
    "A partir de las siguientes listas\n",
    "\n",
    "```\n",
    "l_1 = [Lunes, Martes, Miércoles, Jueves, Viernes, Sábado, Domingo]\n",
    "l_2 = [1, 2, 3, 4, 5, 6, 7, 8]\n",
    "```\n",
    "\n",
    "Escribe una expresión que devuelva:\n",
    "\n",
    "1. El último elemento de la primera lista\n",
    "2. Una nueva lista con el primer elemento de cada una de las listas\n",
    "3. Una nueva lista con los tres primeros elementos de la segunda lista\n",
    "4. Una cadena de caracteres con el valor \"Miércoles 8\"\n",
    "\n",
    "<span style=\"font-family: Courier New; background-color: #82b74b; color: #000000; padding: 3px; \">NM</span>"
   ]
  },
  {
   "cell_type": "code",
   "execution_count": 2,
   "metadata": {},
   "outputs": [],
   "source": [
    "l_1 = ['Lunes', 'Martes', 'Miércoles', 'Jueves', 'Viernes', 'Sábado', 'Domingo']\n",
    "l_2 = [1, 2, 3, 4, 5, 6, 7, 8]\n",
    "\n",
    "# Respuesta"
   ]
  },
  {
   "cell_type": "markdown",
   "metadata": {},
   "source": [
    "---"
   ]
  },
  {
   "cell_type": "markdown",
   "metadata": {},
   "source": [
    "## Ejercicios y preguntas teóricas para la PAC\n",
    "\n",
    "A continuación, los **ejercicios y preguntas teóricas que deberéis completar en esta PAC** y que forman parte de la evaluación de esta unidad.\n",
    "\n",
    "En el siguiente enlace podréis encontrar la documentación oficial de *string functions* que puede\n",
    "ser de ayuda para completar los ejercicios:\n",
    "<https://docs.python.org/2/library/string.html>."
   ]
  },
  {
   "cell_type": "markdown",
   "metadata": {},
   "source": [
    "#  ----------------------------------NOTA IMPORTANTE-------------------------------------\n",
    "\n",
    "### Para poder realizar los ejercicios, se han visitado varias websites para encontrar información adicional relacionada con los ejercicios:\n",
    "\n",
    "\n",
    "<https://docs.python.org/2/library/string.html>\n",
    "\n",
    "<https://www.tutorialspoint.com>\n",
    "\n",
    "<https://stackoverflow.com>\n",
    "\n",
    "<https://www.geeksforgeeks.org>\n",
    "\n",
    "\n",
    "### La información encontrada solamente ha servido de base teórica para poder dar las soluciones \n",
    "### (expresiones y explicaciones) de la PEC2.\n",
    "\n",
    "# ---------------------------------------------------------------------------------------------------\n"
   ]
  },
  {
   "cell_type": "markdown",
   "metadata": {},
   "source": [
    "### Pregunta 1 \n",
    "\n",
    "¿Cuál es el valor final de a, b y c (atención a los tipos de número decimal y entero)? **(1 punto)** <span style=\"font-family: Courier New; background-color: #82b74b; color: #000000; padding: 2px; \">NM</span>\n",
    "\n",
    "a = 5 / 11\n",
    "\n",
    "b = 6 / 2.\n",
    "\n",
    "c, a = b // 2, b + 1"
   ]
  },
  {
   "cell_type": "markdown",
   "metadata": {},
   "source": [
    "**Respuesta**"
   ]
  },
  {
   "cell_type": "markdown",
   "metadata": {},
   "source": [
    "Entenderemos que el programa se compone de 3 líneas de código (“l1”, “l2” y “l3” respectivamente por orden de aparición) y están escritas en una misma celda del Jupyter Notebook, que se ejecuta de una sola vez.\n",
    "\n",
    "El valor “b” es una división entre un numero entero (6) y un número decimal (2.), siendo el resultado de tal división un número decimal de valor 3.0.\n",
    "\n",
    "El valor de “a” se redefine en la línea de código “l3”, superponiendo este nuevo valor al definido en la “l1”. Esta redefinición es una suma que consta del sumando “b” (número decimal de valor 3.0) y del sumando “1” (número entero). El valor final de “a” es un número decimal de valor 4.0.\n",
    "\n",
    "El valor de “c” se define como una división entera entre valor de “b” definido en la “l2” (que hemos visto que era un número decimal de valor 3.0) y un número entero de valor 2, por tanto, el resultado será un número decimal de valor “c” = 1.0, puesto que es la parte entera de la división y además uno de los componentes de la división es número decimal.\n",
    "\n",
    "Respuesta:\n",
    "\n",
    "a = 4.0\n",
    "\n",
    "b = 3.0\n",
    "\n",
    "c = 1.0"
   ]
  },
  {
   "cell_type": "markdown",
   "metadata": {},
   "source": [
    "### Ejercicio 1\n",
    "\n",
    "Proporciona una única expresión que asigne el valor `7.5` a la variable `a_number`, el valor `[42]` a la variable `a_list` y el valor `\"hello world\"` a la variable `a_string`. Es necesario que proporciones una única expresión que realice las tres asignaciones. **(1 punto)** <span style=\"font-family: Courier New; background-color: #82b74b; color: #000000; padding: 2px; \">NM</span>"
   ]
  },
  {
   "cell_type": "code",
   "execution_count": 1,
   "metadata": {},
   "outputs": [],
   "source": [
    "# Respuesta\n",
    "# Python permite asignar de forma múltiple varios valores a varios objetos separándolos por comas e igualándolos\n",
    "# mediante el signo =, siguiendo el orden respectivo.\n",
    "a_number, a_list, a_string = 7.5, [42], \"hello world\""
   ]
  },
  {
   "cell_type": "code",
   "execution_count": 2,
   "metadata": {},
   "outputs": [
    {
     "name": "stdout",
     "output_type": "stream",
     "text": [
      "7.5\n",
      "[42]\n",
      "hello world\n"
     ]
    }
   ],
   "source": [
    "# Para comprobar que la expresión es una solución, mostramos en pantalla los valores utilizando la función print():\n",
    "print (a_number)\n",
    "print (a_list)\n",
    "print (a_string)"
   ]
  },
  {
   "cell_type": "markdown",
   "metadata": {},
   "source": [
    "### Ejercicio 2\n",
    "\n",
    "Qué expresión en Python necesitamos para conseguir el _string_\n",
    "\"Learning Python\" utilizando sólo las variables `str1` y` str2` definidas? **(1 punto)** <span style=\"font-family: Courier New; background-color: #82b74b; color: #000000; padding: 2px; \">NM</span>"
   ]
  },
  {
   "cell_type": "code",
   "execution_count": 5,
   "metadata": {
    "attributes": {
     "classes": [
      "sourceCode"
     ],
     "id": ""
    }
   },
   "outputs": [],
   "source": [
    "str1 = \"I love Python, it's great!\"\n",
    "str2 = \"Learning\""
   ]
  },
  {
   "cell_type": "code",
   "execution_count": 6,
   "metadata": {},
   "outputs": [],
   "source": [
    "# Respuesta\n",
    "# Python permite concatenar las cadenas de caracteres (string) con el operador suma \"+\".\n",
    "# Ordenamos str1 y str2 para poder obtener una solución acorde con el enunciado.\n",
    "# El espacio en blanco se consiera un carácter.\n",
    "# Utilizamos la técnica slicing para escoger la cadena de caracteres de str1 requerida por el enunciado.\n",
    "str_respuesta = str2 + \" \" + str1[7:13]"
   ]
  },
  {
   "cell_type": "code",
   "execution_count": 7,
   "metadata": {},
   "outputs": [
    {
     "data": {
      "text/plain": [
       "'Learning Python'"
      ]
     },
     "execution_count": 7,
     "metadata": {},
     "output_type": "execute_result"
    }
   ],
   "source": [
    "# Para comprobar que la expresión es una solución, mostramos en pantalla la concatenación de valores:\n",
    "str_respuesta"
   ]
  },
  {
   "cell_type": "markdown",
   "metadata": {},
   "source": [
    "### Ejercicio 3\n",
    "\n",
    "Escribir un programa que asigne tres valores reales aleatorios a tres variables con nombre `a`,` b` y ` c`. Utiliza las variables definidas anteriormente para evaluar la siguiente expresión matemática:\n",
    "\n",
    "$\\frac{-b + \\sqrt {b^2-4ac}}{2a}$\n",
    "\n",
    "**(1 punto)** <span style=\"font-family: Courier New; background-color: #ffcc5c; color: #000000; padding: 3px; \">EG</span>\n",
    "\n",
    "**Nota**: En el notebook de teoría hemos visto como sumar, restar, multiplicar y dividir números reales. Para hacer la actividad, tendréis que investigar cómo calcular potencias y raíces cuadradas en Python! Necesitaréis utilizar la librería [`Random`](https://docs.python.org/3/library/random.html?highlight=random#module-random) para la generación de números aleatorios."
   ]
  },
  {
   "cell_type": "code",
   "execution_count": 15,
   "metadata": {
    "attributes": {
     "classes": [
      "sourceCode"
     ],
     "id": ""
    }
   },
   "outputs": [],
   "source": [
    "# Respuesta\n",
    "# Utilizamos la librería Random para generar números reales aleatoriamente.\n",
    "# Se ha decidio asignar un dominio en el valor b mayor que 2 para no obtener valores negativos o nulos\n",
    "# en la raíz cuadrada, aunque se ha comprobado que Python admite y muestra números complejos.\n",
    "# random.random() genera valores reales aleatorios en el dominio semiabierto [0.0, 1.0).\n",
    "# random.uniform() general valores reales aleatorios en el domino abierto (a,b). En este caso a = 2.1, y b = 100.0\n",
    "\n",
    "import random\n",
    "a = random.random()\n",
    "b = random.uniform(2.1,100.0)\n",
    "c = random.random()\n",
    "\n",
    "expresion = (-b+((b**2)-(4*a*c))**0.5)/(2*a)"
   ]
  },
  {
   "cell_type": "code",
   "execution_count": 16,
   "metadata": {},
   "outputs": [
    {
     "name": "stdout",
     "output_type": "stream",
     "text": [
      "-0.035737588476051144\n"
     ]
    }
   ],
   "source": [
    "# Para comprobar que la expresión es una solución, mostramos en pantalla el valor resultante de la expresión.\n",
    "# Cada vez que ejecutemos el programa y lo mostremos, el valor resulante mostrado será diferente puesto que los valores\n",
    "# a, b, y c son aleatorios.\n",
    "print (expresion)"
   ]
  },
  {
   "cell_type": "markdown",
   "metadata": {},
   "source": [
    "### Ejercicio 4\n",
    "\n",
    "Escribir un programa que calcule el diámetro de una esfera de radio 5. **(1 punto)** <span style=\"font-family: Courier New; background-color: #82b74b; color: #000000; padding: 2px; \">NM</span>"
   ]
  },
  {
   "cell_type": "code",
   "execution_count": 26,
   "metadata": {
    "attributes": {
     "classes": [
      "sourceCode"
     ],
     "id": ""
    }
   },
   "outputs": [],
   "source": [
    "# Respuesta\n",
    "# El diámetro de una esfera es dos veces su radio. Se escribe un programa para calcular el doble de un valor dado.\n",
    "# Se define una función \"dia_esfera\" con una única variable \"radio_esfera\".\n",
    "# Definimos el diámetro de la esfera como 2 veces su radio.\n",
    "# La función devolverá el valor del diámetro del radio especificado mediante la orden \"return\".\n",
    "def dia_esfera (radio_esfera):\n",
    "    diametro_esfera = radio_esfera*2\n",
    "    return diametro_esfera"
   ]
  },
  {
   "cell_type": "code",
   "execution_count": 27,
   "metadata": {},
   "outputs": [
    {
     "data": {
      "text/plain": [
       "10"
      ]
     },
     "execution_count": 27,
     "metadata": {},
     "output_type": "execute_result"
    }
   ],
   "source": [
    "# Para comprobar que la expresión es una solución, llamamos al programa \"dia_esfera\", especificando el valor\n",
    "# del radio como su variable.\n",
    "dia_esfera (5)"
   ]
  },
  {
   "cell_type": "markdown",
   "metadata": {},
   "source": [
    "### Ejercicio 5\n",
    "\n",
    "Escribir un programa que defina una lista con los 10 primeros números primos. Mostrad por pantalla los tres últimos números de la lista. **(1 punto)** <span style=\"font-family: Courier New; background-color: #82b74b; color: #000000; padding: 2px; \">NM</span>"
   ]
  },
  {
   "cell_type": "code",
   "execution_count": 28,
   "metadata": {
    "attributes": {
     "classes": [
      "sourceCode"
     ],
     "id": ""
    }
   },
   "outputs": [
    {
     "data": {
      "text/plain": [
       "[19, 23, 29]"
      ]
     },
     "execution_count": 28,
     "metadata": {},
     "output_type": "execute_result"
    }
   ],
   "source": [
    "# Respuesta\n",
    "# Se define una lista con los 10 primeros números primos.\n",
    "# Para mostrar los últimos 3 números de la lista, procedemos a utilizar la técnica de slicing. En este caso,\n",
    "# utilizaremos índices negativos para referenciar la posición desde el último elemento de la lista. Marcaremos\n",
    "# como primer índice el -3, que será includido en el resultado, y omitiremos el segundo parametro para dar a entender\n",
    "# que queremos mostrar el resto de la lista hasta el último elemento.\n",
    "\n",
    "primos_10 = [2, 3, 5, 7, 11, 13, 17, 19, 23, 29]\n",
    "primos_10 [-3:]"
   ]
  },
  {
   "cell_type": "markdown",
   "metadata": {},
   "source": [
    "### Ejercicio 6\n",
    "\n",
    "Escribir un programa en el que se definan los precios de una frutería utilizando un _diccionario_. Deberéis incluir, como mínimo, 5 tipos de fruta diferentes. Por cada fruta, deberá indicarse el precio por kilo.\n",
    "\n",
    "Por ejemplo: Fresas de Huelva con precio 5.9, Fresas del Maresme con precio 10, Manzanas con precio 3.5, etc.\n",
    "\n",
    "Muestra el precio por kilo de cualquiera de las frutas que has incluido en el diccionario, utilizando cualquiera de los métodos de acceso a elementos de un diccionario. **(1 punto)** <span style=\"font-family: Courier New; background-color: #82b74b; color: #000000; padding: 2px; \">NM</span>"
   ]
  },
  {
   "cell_type": "code",
   "execution_count": 29,
   "metadata": {},
   "outputs": [
    {
     "name": "stdout",
     "output_type": "stream",
     "text": [
      "2.5\n"
     ]
    }
   ],
   "source": [
    "# Respuesta\n",
    "# Se define un diccionario con cinco tipos de frutas diferentes y sus respectivos precios por kilo. Los nombres\n",
    "# de las frutas serán las claves del diccionario y los precios por kilo los respectivos valores de las claves. \n",
    "\n",
    "frutas = {\"Manzana\": 2.5, \"Pera\": 3.5, \"Naranja\": 4.5, \"Kiwi\": 5.5,  \"Cereza\": 6.5}\n",
    "\n",
    "# Se utiliza la función print () para mostrar el primer valor. El valor de la clave \"Manzana\" es llamado \n",
    "# justamente usando su string.\n",
    "print (frutas[\"Manzana\"]) "
   ]
  },
  {
   "cell_type": "markdown",
   "metadata": {},
   "source": [
    "### Ejercicio 7\n",
    "\n",
    "Escribir un código que muestre por pantalla el precio de todas las frutas incluidas en el diccionario creado en el ejercicio anterior (accediendo al diccionario que acabas de definir). **(1 punto)** <span style=\"font-family: Courier New; background-color: #82b74b; color: #000000; padding: 2px; \">NM</span>\n",
    "\n",
    "El formato de la cadena de caracteres que muestra el precio debe ser el siguiente:\n",
    "\n",
    "```Las frutas tienen un precio de: {precios} euros```\n",
    "\n",
    "Siguiendo con el ejemplo del ejercicio anterior, habría que mostrar por pantalla:\n",
    "\n",
    "```Las frutas tienen un precio de: [5.9, 10, 3.5] euros```\n",
    "\n",
    "**Nota**: recordad que los diccionarios no tienen orden. Por lo tanto, otras ordenaciones de los precios también serían soluciones válidas, por ejemplo:\n",
    "\n",
    "```Las frutas tienen un precio de: [10, 5.9, 3.5] euros```"
   ]
  },
  {
   "cell_type": "code",
   "execution_count": 30,
   "metadata": {},
   "outputs": [
    {
     "name": "stdout",
     "output_type": "stream",
     "text": [
      "Las frutas tienen un precio de [2.5, 3.5, 4.5, 5.5, 6.5]) euros\n"
     ]
    }
   ],
   "source": [
    "# Respuesta\n",
    "# Se utiliza la función print () para mostrar en pantalla la respuesta al ejercicio.\n",
    "# Utilizaremos el método format de los tipos nativos de datos string para substituir la cadena de caracteres que \n",
    "# deseamos.\n",
    "# Utilizaremos el método values al diccionario frutas para conseguir los valores de todas las claves del diccionario.\n",
    "# Usamos la técnica slicing para poder eliminar los caracteres que no deseamos utilizar, cambiando el tipo de dato\n",
    "# a string primero para poder utilizar el método values. En este caso, no queremos mostrar los primeros 12 caracteres,\n",
    "# posición [0] a [11], que siempre serán los mismos usando método values, es decir \"dict_values(\".\n",
    "\n",
    "print(\"Las frutas tienen un precio de {} euros\".format(str(frutas.values())[12:]))"
   ]
  },
  {
   "cell_type": "markdown",
   "metadata": {},
   "source": [
    "### Ejercicio 8\n",
    "\n",
    "Ordenad la siguiente lista de cadenas de caracteres: **(1 punto)** <span style=\"font-family: Courier New; background-color: #ffcc5c; color: #000000; padding: 3px; \">EG</span>\n",
    "\n",
    "1. Invirtiendo el orden original\n",
    "2. En orden alfabético inverso\n",
    "\n",
    "**Nota**: Puedes consultar la documentación oficial de la función [`sorted`](https://docs.python.org/3/library/functions.html#sorted) para ver qué parámetros puedes utilizar para resolver la segunda parte de la actividad.\n",
    "\n"
   ]
  },
  {
   "cell_type": "code",
   "execution_count": 41,
   "metadata": {},
   "outputs": [],
   "source": [
    "st_chars = [\"Benjamin Sisko\", \"Kira Nerys\", \"Odo\", \"Quark\", \"Jadzia Dax\"]"
   ]
  },
  {
   "cell_type": "code",
   "execution_count": 42,
   "metadata": {},
   "outputs": [],
   "source": [
    "# Respuesta 8.1\n",
    "# Utilizaremos el método reverse(), que utilizado sobre una lista, devuelve la misma lista, pero en orden inverso\n",
    "# en cuanto a los elementos que la conforman. \n",
    "st_chars.reverse()\n"
   ]
  },
  {
   "cell_type": "code",
   "execution_count": 43,
   "metadata": {},
   "outputs": [
    {
     "name": "stdout",
     "output_type": "stream",
     "text": [
      "['Jadzia Dax', 'Quark', 'Odo', 'Kira Nerys', 'Benjamin Sisko']\n"
     ]
    }
   ],
   "source": [
    "# Para comprobar que la expresión es una solución, mostramos en pantalla la lista resultante de la expresión definida\n",
    "# utilizando la función print ()\n",
    "print (st_chars)"
   ]
  },
  {
   "cell_type": "code",
   "execution_count": 44,
   "metadata": {},
   "outputs": [],
   "source": [
    "# Respuesta 8.2\n",
    "# Utilizaremos la función sort () para poder ordenar en un orden predeterminado la lista st_chars.\n",
    "# La función sort() admite el parámetro \"reverse\", que si se designa como True, devuelve la misma lista pero\n",
    "# con sus elementos en orden descendiente. En nuestro caso, siento todos los elementos de la lista strings, el orden \n",
    "# solicitado será en orden alfabético inverso.\n",
    "\n",
    "st_chars.sort(reverse=True)"
   ]
  },
  {
   "cell_type": "code",
   "execution_count": 45,
   "metadata": {},
   "outputs": [
    {
     "name": "stdout",
     "output_type": "stream",
     "text": [
      "['Quark', 'Odo', 'Kira Nerys', 'Jadzia Dax', 'Benjamin Sisko']\n"
     ]
    }
   ],
   "source": [
    "# Para comprobar que la expresión es una solución, mostramos en pantalla la lista resultante de la expresión definida\n",
    "# utilizando la función print ()\n",
    "print (st_chars)"
   ]
  },
  {
   "cell_type": "markdown",
   "metadata": {},
   "source": [
    "### Ejercicio 9\n",
    "\n",
    "A partir de la siguiente lista,\n",
    "\n",
    "```a_list = [42, 7.5,\" Answer to the Ultimate Question \",\" Dave \", 7.5]```\n",
    "\n",
    "proporcionad expresiones que devuelvan:\n",
    "\n",
    "1. El número de veces que aparece el elemento 7.5 en la lista.\n",
    "2. La posición de la primera aparición del valor 7.5\n",
    "3. La misma lista sin el último elemento\n",
    "\n",
    "**Nota**: En el notebook de teoría hemos visto qué son las listas y algunas operaciones sobre ellas. Para hacer la actividad, necesitaréis investigar algunas operaciones adicionales que podemos realizar sobre listas. Para ello podéis consultar la documentación oficial de Python sobre listas ([intro](https://docs.python.org/3/tutorial/introduction.html#lists) y [more on lists](https://docs.python.org/3/tutorial/datastructures.html#more-on-lists)).\n",
    "\n",
    "**(1 punto)** <span style=\"font-family: Courier New; background-color: #ffcc5c; color: #000000; padding: 3px; \">EG</span>"
   ]
  },
  {
   "cell_type": "code",
   "execution_count": 51,
   "metadata": {},
   "outputs": [],
   "source": [
    "a_list = [42, 7.5, \"Answer to the Ultimate Question\", \"Dave\", 7.5]"
   ]
  },
  {
   "cell_type": "code",
   "execution_count": 52,
   "metadata": {},
   "outputs": [
    {
     "data": {
      "text/plain": [
       "2"
      ]
     },
     "execution_count": 52,
     "metadata": {},
     "output_type": "execute_result"
    }
   ],
   "source": [
    "# Respuesta 9.1\n",
    "# Utilizaremos el método \"count ()\" aplicado a listas, que devuelve cuántas veces un mismo objeto ser repite en la lista\n",
    "# a la cual se ha aplicado el método.\n",
    "# En nuestro caso, count nos dará las veces que el objeto 7.5 (número decimal) aparecen en a_list\n",
    "a_list.count(7.5)"
   ]
  },
  {
   "cell_type": "code",
   "execution_count": 53,
   "metadata": {},
   "outputs": [
    {
     "data": {
      "text/plain": [
       "1"
      ]
     },
     "execution_count": 53,
     "metadata": {},
     "output_type": "execute_result"
    }
   ],
   "source": [
    "# Respuesta 9.2\n",
    "# Utilizaremos el el método \"index ()\" aplicado a listas, que devuelve la posición en la que está un objeto si éste\n",
    "# no está repetido, y devuelve la posición más baja en la que aperece el objeto si éste está repetido.\n",
    "a_list.index(7.5) "
   ]
  },
  {
   "cell_type": "code",
   "execution_count": 54,
   "metadata": {},
   "outputs": [
    {
     "name": "stdout",
     "output_type": "stream",
     "text": [
      "[42, 7.5, 'Answer to the Ultimate Question', 'Dave']\n"
     ]
    }
   ],
   "source": [
    "# Respuesta 9.3\n",
    "# Hemos observado que utilizar el método \"remove ()\" a un objeto de una lista, elimina el objeto en donde aparece por\n",
    "# primera vez, solución no adecuada para este ejercicio, ya que nos elimina la posición [1] y no la [4], que es la\n",
    "# última.\n",
    "# Utilizaremos el método aplicado a listas llamado \"pop ()\", el cual si no se indica específicamente su índice, elimina\n",
    "# de la lista el último objeto.\n",
    "# Para mostrar la lista sin el 'ultimo objeto utilizamos la función print ()\n",
    "a_list.pop()\n",
    "print (a_list)"
   ]
  },
  {
   "cell_type": "markdown",
   "metadata": {},
   "source": [
    "### Ejercicio Opcional\n",
    "\n",
    "Escribir un programa que genere una lista de números aleatorios y calcule el producto de todos los números de la lista. Los números de la lista deberán cumplir la siguiente condición: deben ser números impares entre 0 y 100. Además, el programa tendrá que preguntar al usuario cuántos elementos debe tener la lista (el usuario introducirá el número de elementos usando el teclado) y mostrar un mensaje de error si el usuario pide generar una lista de más de 50 elementos. Haz que el programa muestre la lista generada y el producto de sus elementos. <span style=\"font-family: Courier New; background-color: #f2ae72; color: #000000; padding: 3px; \">EI</span>"
   ]
  },
  {
   "cell_type": "code",
   "execution_count": null,
   "metadata": {},
   "outputs": [],
   "source": [
    "# Respuesta"
   ]
  },
  {
   "cell_type": "markdown",
   "metadata": {},
   "source": [
    "---\n",
    "\n",
    "## Soluciones de Ejercicios para practicar"
   ]
  },
  {
   "cell_type": "markdown",
   "metadata": {},
   "source": [
    "### Ejercicio 1\n",
    "\n",
    "La forma más fácil de definir un array en Python es utilizando [ ]:"
   ]
  },
  {
   "cell_type": "code",
   "execution_count": 8,
   "metadata": {},
   "outputs": [],
   "source": [
    "dias = ['Lunes', 'Martes', 'Miércoles', 'Jueves', 'Viernes', 'Sábado', 'Domingo']"
   ]
  },
  {
   "cell_type": "markdown",
   "metadata": {},
   "source": [
    "Para acceder a los elementos de un array utilizaremos el mismo operador [ ], pero especificaremos la posición o índice del elemento al que queremos acceder. Debemos tener en cuenta que en Python, el primer elemento de una lista tiene índice 0."
   ]
  },
  {
   "cell_type": "code",
   "execution_count": 10,
   "metadata": {},
   "outputs": [
    {
     "name": "stdout",
     "output_type": "stream",
     "text": [
      "Lunes\n",
      "Sábado\n"
     ]
    }
   ],
   "source": [
    "# Primer día de la setmana\n",
    "print (dias[0])\n",
    "\n",
    "# Penúltimo día de la setmana \n",
    "print (dias[-2])"
   ]
  },
  {
   "cell_type": "markdown",
   "metadata": {},
   "source": [
    "Python nos permite utilizar un índice negativo que contaría desde el final del array hacia el principio."
   ]
  },
  {
   "cell_type": "markdown",
   "metadata": {},
   "source": [
    "### Ejercicio 2\n",
    "\n",
    "Hay diferentes maneras de conseguir el mismo resultado y después veremos algunas de ellas.\n",
    "\n",
    "La primera opción, y quizás la más simple, sería utilizar las triples comillas dobles ( \"\"\"  \"\"\"). En Python, las triples comillas dobles se interpretan de forma literal y cualquier carácter que incluya nuestra cadena será renderizado tal y como aparece en la cadena. Esto nos puede resultar útil si por ejemplo nuestra cadena incluye comillas simples y comillas dobles. Vemos el código:"
   ]
  },
  {
   "cell_type": "code",
   "execution_count": 11,
   "metadata": {},
   "outputs": [
    {
     "name": "stdout",
     "output_type": "stream",
     "text": [
      "Hello\n",
      "\n",
      "    Python\n"
     ]
    }
   ],
   "source": [
    "print(\"\"\"Hello\n",
    "\n",
    "    Python\"\"\")"
   ]
  },
  {
   "cell_type": "markdown",
   "metadata": {},
   "source": [
    "La segunda opción incluye el uso de caracteres especiales como \"\\ n\" y \"\\ t\". El primero genera un salto de línea en la salida por pantalla, mientras que el segundo genera un tabulado (TAB). Por lo tanto, nuestro código quedaría de la siguiente manera:"
   ]
  },
  {
   "cell_type": "code",
   "execution_count": 13,
   "metadata": {},
   "outputs": [
    {
     "name": "stdout",
     "output_type": "stream",
     "text": [
      "Hello\n",
      "\n",
      "\tPython\n"
     ]
    }
   ],
   "source": [
    "print(\"Hello\\n\\n\\tPython\")"
   ]
  },
  {
   "cell_type": "markdown",
   "metadata": {},
   "source": [
    "En este caso, podemos ver que la indentación de la palabra \"Python\" es superior que en el caso anterior. Esto es debido a que, por defecto, el carácter \\t genera 8 espacios en blanco para \"simular\" la tabulación.\n",
    "\n",
    "Alternativamente, podemos utilizar el siguiente código (podemos poner nosotros mismos los espacios en blanco al principio de la línea):"
   ]
  },
  {
   "cell_type": "code",
   "execution_count": 14,
   "metadata": {},
   "outputs": [
    {
     "name": "stdout",
     "output_type": "stream",
     "text": [
      "Hello\n",
      "\n",
      "    Python\n"
     ]
    }
   ],
   "source": [
    "print(\"Hello\\n\\n    Python\")"
   ]
  },
  {
   "cell_type": "markdown",
   "metadata": {},
   "source": [
    "### Ejercicio 3"
   ]
  },
  {
   "cell_type": "code",
   "execution_count": 15,
   "metadata": {},
   "outputs": [],
   "source": [
    "l_1 = ['Lunes', 'Martes', 'Miércoles', 'Jueves', 'Viernes', 'Sábado', 'Domingo']\n",
    "l_2 = [1, 2, 3, 4, 5, 6, 7, 8]"
   ]
  },
  {
   "cell_type": "code",
   "execution_count": 16,
   "metadata": {},
   "outputs": [
    {
     "name": "stdout",
     "output_type": "stream",
     "text": [
      "Domingo\n"
     ]
    }
   ],
   "source": [
    "# 1. El último elemento de la primera lista\n",
    "print(l_1[-1])"
   ]
  },
  {
   "cell_type": "markdown",
   "metadata": {},
   "source": [
    "Utilizamos un índice negativo para indicar que queremos la última posición."
   ]
  },
  {
   "cell_type": "code",
   "execution_count": 17,
   "metadata": {},
   "outputs": [
    {
     "name": "stdout",
     "output_type": "stream",
     "text": [
      "['Lunes', 1]\n"
     ]
    }
   ],
   "source": [
    "# 2. Una nueva lista con el primer elemento de cada una de las listas\n",
    "print([l_1[0], l_2[0]])"
   ]
  },
  {
   "cell_type": "markdown",
   "metadata": {},
   "source": [
    "Creamos una nueva lista utilizando `[` y `]`. Dentro de la lista ponemos los elementos indicados, accediendo a partir de su índice."
   ]
  },
  {
   "cell_type": "code",
   "execution_count": 18,
   "metadata": {},
   "outputs": [
    {
     "name": "stdout",
     "output_type": "stream",
     "text": [
      "[1, 2, 3]\n",
      "[1, 2, 3]\n"
     ]
    }
   ],
   "source": [
    "# 3. Una nueva lista con los tres primeros elementos de la segunda lista\n",
    "print(l_2[0:3])\n",
    "\n",
    "# o equivalentmente:\n",
    "print(l_2[:3])"
   ]
  },
  {
   "cell_type": "markdown",
   "metadata": {},
   "source": [
    "Indicamos que queremos los tres primeros elementos, especificando el rango `0: 3`. El cero se puede omitir, obteniendo la expresión `[: 3]` que también es válida para recuperar los mismos elementos."
   ]
  },
  {
   "cell_type": "code",
   "execution_count": 19,
   "metadata": {},
   "outputs": [
    {
     "name": "stdout",
     "output_type": "stream",
     "text": [
      "Miércoles 8\n"
     ]
    }
   ],
   "source": [
    "# 4. Una cadena de caracteres con el valor \"Miércoles 8\"\n",
    "print(l_1[2] + \" \" + str(l_2[-1]))"
   ]
  },
  {
   "cell_type": "markdown",
   "metadata": {},
   "source": [
    "Creamos la cadena concatenando el tercer elemento de la primera lista, un espacio, y el último elemento de la segunda lista."
   ]
  }
 ],
 "metadata": {
  "kernelspec": {
   "display_name": "Python 3",
   "language": "python",
   "name": "python3"
  },
  "language_info": {
   "codemirror_mode": {
    "name": "ipython",
    "version": 3
   },
   "file_extension": ".py",
   "mimetype": "text/x-python",
   "name": "python",
   "nbconvert_exporter": "python",
   "pygments_lexer": "ipython3",
   "version": "3.6.8"
  }
 },
 "nbformat": 4,
 "nbformat_minor": 1
}
