{
 "cells": [
  {
   "cell_type": "markdown",
   "source": [
    "Programación para *Data Science*\n",
    "============================\n",
    "\n",
    "Unidad 2: Breve introducción a la programación en Python\n",
    "-----------------------------------------------------\n",
    "\n",
    "# Introducción\n",
    "\n",
    "En este Notebook encontraréis dos conjuntos de ejercicios: un primer conjunto de **ejercicios para practicar** y un segundo conjunto de **actividades evaluables** como PEC de la asignatura.\n",
    "\n",
    "En cuanto al conjunto de ejercicios para practicar, éstos no puntúan para la PEC, pero os recomendamos que los intentéis resolver como parte del proceso de aprendizaje. Encontraréis ejemplos de posibles soluciones a los ejercicios al propio notebook, pero es importante que intentéis resolverlos vosotros antes de consultar las soluciones. Las soluciones os permitirán validar vuestras respuestas, así como ver alternativas de resolución de las actividades. También os animamos a preguntar cualquier duda que surja sobre la resolución de los **ejercicios para practicar** en el foro del aula.\n",
    "\n",
    "En relación a las actividades evaluables, veréis que cada una de ellas tiene asociada una puntuación que indica el peso que tiene la actividad sobre la nota de la PEC. Adicionalmente, hay un ejercicio opcional, que no tiene puntuación dentro de la PEC, pero que se valora al final del semestre de cara a conceder las matrículas de honor y redondear las notas finales. Podéis sacar la máxima nota de la PEC sin necesidad de hacer este ejercicio! El objetivo de este ejercicio es que sirva como pequeño reto para los estudiantes que quieran profundizar en el contenido de la asignatura.\n",
    "\n",
    "Además, veréis que todas las actividades tienen una etiqueta que indica los recursos necesarios para llevarla a cabo. Hay tres posibles etiquetas:\n",
    "\n",
    "* <span style=\"font-family: Courier New; background-color: #82b74b; color: #000000; padding: 3px; \">NM</span> **Sólo materiales**: las herramientas necesarias para realizar la actividad se pueden encontrar en los materiales de la asignatura. \n",
    "\n",
    "* <span style=\"font-family: Courier New; background-color: #ffcc5c; color: #000000; padding: 3px; \">EG</span> **Consulta externa guiada**: la actividad puede requerir hacer uso de herramientas que no se encuentran en los materiales de la asignatura, pero el enunciado contiene indicaciones de dónde o cómo encontrar la información adicional necesaria para resolver la actividad.\n",
    "\n",
    "* <span style=\"font-family: Courier New; background-color: #f2ae72; color: #000000; padding: 3px; \">EI</span> **Consulta externa independente**: la actividad puede requerir hacer uso de herramientas que no se encuentran en los materiales de la asignatura, y el enunciado puede no incluir la descripción de dónde o cómo encontrar esta información adicional. Será necesario que el estudiante busque esta información utilizando los recursos que se han explicado en la asignatura.\n",
    "\n",
    "Es importante notar que estas etiquetas no indican el nivel de dificultad del ejercicio, sino únicamente la necesidad de consulta de documentación externa para su resolución. Además, recordad que las **etiquetas son informativas**, pero podréis consultar referencias externas en cualquier momento (aunque no se indique explícitamente) o puede ser que podáis hacer una actividad sin consultar ningún tipo de documentación. Por ejemplo, para resolver una actividad que sólo requiera los materiales de la asignatura, puedéis consultar referencias externas si queréis, ya sea tanto para ayudaros en la resolución como para ampliar el conocimiento!\n",
    "\n",
    "En cuanto a la consulta de documentación externa en la resolución de los ejercicios, recordad **citar siempre la bibliografía utilizada** para resolver cada actividad.\n"
   ],
   "metadata": {}
  },
  {
   "cell_type": "markdown",
   "source": [
    "---"
   ],
   "metadata": {}
  },
  {
   "cell_type": "markdown",
   "source": [
    "## Ejercicios para practicar\n",
    "\n",
    "**Los siguientes 3 ejercicios no puntúan para la PEC**, pero os recomendamos que los intentéis resolver antes de pasar a los ejercicios propios de la PAC. También encontraréis las soluciones a estos ejercicios al final del Notebook."
   ],
   "metadata": {}
  },
  {
   "cell_type": "markdown",
   "source": [
    "### Ejercicio 1\n",
    "\n",
    "Escribir un programa que defina una lista los valores con los nombres de los días de la semana. Haz que muestre el primero y\n",
    "el penúltimo día de la semana. <span style=\"font-family: Courier New; background-color: #82b74b; color: #000000; padding: 3px; \">NM</span>"
   ],
   "metadata": {}
  },
  {
   "cell_type": "code",
   "execution_count": 1,
   "source": [
    "# Respuesta"
   ],
   "outputs": [],
   "metadata": {}
  },
  {
   "cell_type": "markdown",
   "source": [
    "### Ejercicio 2\n",
    "\n",
    "Escribir una expresión en Python que muestre la siguiente salida por pantalla:"
   ],
   "metadata": {}
  },
  {
   "cell_type": "raw",
   "source": [
    "Hello\r\n",
    "\r\n",
    "    Python"
   ],
   "metadata": {}
  },
  {
   "cell_type": "markdown",
   "source": [
    "(Tened en cuenta que hay un salto de línea entre las dos palabras y que la palabra \"Python\" está tabulada hacia la derecha) <span style=\"font-family: Courier New; background-color: #ffcc5c; color: #000000; padding: 3px; \">EG</span>\n",
    "\n",
    "**Nota**: En el notebook de teoría hemos visto cómo crear cadenas de caracteres. Para hacer la actividad, tendréis que investigar cómo incluir saltos de línea y tabulaciones en estas cadenas!"
   ],
   "metadata": {}
  },
  {
   "cell_type": "code",
   "execution_count": null,
   "source": [
    "# Respuesta"
   ],
   "outputs": [],
   "metadata": {}
  },
  {
   "cell_type": "markdown",
   "source": [
    "### Ejercicio 3\n",
    "\n",
    "A partir de las siguientes listas\n",
    "\n",
    "```\n",
    "l_1 = [Lunes, Martes, Miércoles, Jueves, Viernes, Sábado, Domingo]\n",
    "l_2 = [1, 2, 3, 4, 5, 6, 7, 8]\n",
    "```\n",
    "\n",
    "Escribe una expresión que devuelva:\n",
    "\n",
    "1. El último elemento de la primera lista\n",
    "2. Una nueva lista con el primer elemento de cada una de las listas\n",
    "3. Una nueva lista con los tres primeros elementos de la segunda lista\n",
    "4. Una cadena de caracteres con el valor \"Miércoles 8\"\n",
    "\n",
    "<span style=\"font-family: Courier New; background-color: #82b74b; color: #000000; padding: 3px; \">NM</span>"
   ],
   "metadata": {}
  },
  {
   "cell_type": "code",
   "execution_count": 2,
   "source": [
    "l_1 = ['Lunes', 'Martes', 'Miércoles', 'Jueves', 'Viernes', 'Sábado', 'Domingo']\r\n",
    "l_2 = [1, 2, 3, 4, 5, 6, 7, 8]\r\n",
    "\r\n",
    "# Respuesta"
   ],
   "outputs": [],
   "metadata": {}
  },
  {
   "cell_type": "markdown",
   "source": [
    "---"
   ],
   "metadata": {}
  },
  {
   "cell_type": "markdown",
   "source": [
    "## Ejercicios y preguntas teóricas para la PAC\n",
    "\n",
    "A continuación, los **ejercicios y preguntas teóricas que deberéis completar en esta PAC** y que forman parte de la evaluación de esta unidad.\n",
    "\n",
    "En el siguiente enlace podréis encontrar la documentación oficial de *string functions* que puede\n",
    "ser de ayuda para completar los ejercicios:\n",
    "<https://docs.python.org/2/library/string.html>."
   ],
   "metadata": {}
  },
  {
   "cell_type": "markdown",
   "source": [
    "#  ----------------------------------NOTA IMPORTANTE-------------------------------------\n",
    "\n",
    "### Para poder realizar los ejercicios, se han visitado varias websites para encontrar información adicional relacionada con los ejercicios:\n",
    "\n",
    "\n",
    "<https://docs.python.org/2/library/string.html>\n",
    "\n",
    "<https://www.tutorialspoint.com>\n",
    "\n",
    "<https://stackoverflow.com>\n",
    "\n",
    "<https://www.geeksforgeeks.org>\n",
    "\n",
    "\n",
    "### La información encontrada solamente ha servido de base teórica para poder dar las soluciones \n",
    "### (expresiones y explicaciones) de la PEC2.\n",
    "\n",
    "# ---------------------------------------------------------------------------------------------------\n"
   ],
   "metadata": {}
  },
  {
   "cell_type": "markdown",
   "source": [
    "### Pregunta 1 \n",
    "\n",
    "¿Cuál es el valor final de a, b y c (atención a los tipos de número decimal y entero)? **(1 punto)** <span style=\"font-family: Courier New; background-color: #82b74b; color: #000000; padding: 2px; \">NM</span>\n",
    "\n",
    "a = 5 / 11\n",
    "\n",
    "b = 6 / 2.\n",
    "\n",
    "c, a = b // 2, b + 1"
   ],
   "metadata": {}
  },
  {
   "cell_type": "markdown",
   "source": [
    "**Respuesta**"
   ],
   "metadata": {}
  },
  {
   "cell_type": "code",
   "execution_count": null,
   "source": [],
   "outputs": [],
   "metadata": {}
  },
  {
   "cell_type": "markdown",
   "source": [
    "### Ejercicio 1\n",
    "\n",
    "Proporciona una única expresión que asigne el valor `7.5` a la variable `a_number`, el valor `[42]` a la variable `a_list` y el valor `\"hello world\"` a la variable `a_string`. Es necesario que proporciones una única expresión que realice las tres asignaciones. **(1 punto)** <span style=\"font-family: Courier New; background-color: #82b74b; color: #000000; padding: 2px; \">NM</span>"
   ],
   "metadata": {}
  },
  {
   "cell_type": "markdown",
   "source": [
    "### Ejercicio 2\n",
    "\n",
    "Qué expresión en Python necesitamos para conseguir el _string_\n",
    "\"Learning Python\" utilizando sólo las variables `str1` y` str2` definidas? **(1 punto)** <span style=\"font-family: Courier New; background-color: #82b74b; color: #000000; padding: 2px; \">NM</span>"
   ],
   "metadata": {}
  },
  {
   "cell_type": "code",
   "execution_count": 5,
   "source": [
    "str1 = \"I love Python, it's great!\"\r\n",
    "str2 = \"Learning\""
   ],
   "outputs": [],
   "metadata": {
    "attributes": {
     "classes": [
      "sourceCode"
     ],
     "id": ""
    }
   }
  },
  {
   "cell_type": "markdown",
   "source": [
    "### Ejercicio 3\n",
    "\n",
    "Escribir un programa que asigne tres valores reales aleatorios a tres variables con nombre `a`,` b` y ` c`. Utiliza las variables definidas anteriormente para evaluar la siguiente expresión matemática:\n",
    "\n",
    "$\\frac{-b + \\sqrt {b^2-4ac}}{2a}$\n",
    "\n",
    "**(1 punto)** <span style=\"font-family: Courier New; background-color: #ffcc5c; color: #000000; padding: 3px; \">EG</span>\n",
    "\n",
    "**Nota**: En el notebook de teoría hemos visto como sumar, restar, multiplicar y dividir números reales. Para hacer la actividad, tendréis que investigar cómo calcular potencias y raíces cuadradas en Python! Necesitaréis utilizar la librería [`Random`](https://docs.python.org/3/library/random.html?highlight=random#module-random) para la generación de números aleatorios."
   ],
   "metadata": {}
  },
  {
   "cell_type": "markdown",
   "source": [
    "### Ejercicio 4\n",
    "\n",
    "Escribir un programa que calcule el diámetro de una esfera de radio 5. **(1 punto)** <span style=\"font-family: Courier New; background-color: #82b74b; color: #000000; padding: 2px; \">NM</span>"
   ],
   "metadata": {}
  },
  {
   "cell_type": "markdown",
   "source": [
    "### Ejercicio 5\n",
    "\n",
    "Escribir un programa que defina una lista con los 10 primeros números primos. Mostrad por pantalla los tres últimos números de la lista. **(1 punto)** <span style=\"font-family: Courier New; background-color: #82b74b; color: #000000; padding: 2px; \">NM</span>"
   ],
   "metadata": {}
  },
  {
   "cell_type": "markdown",
   "source": [
    "### Ejercicio 6\n",
    "\n",
    "Escribir un programa en el que se definan los precios de una frutería utilizando un _diccionario_. Deberéis incluir, como mínimo, 5 tipos de fruta diferentes. Por cada fruta, deberá indicarse el precio por kilo.\n",
    "\n",
    "Por ejemplo: Fresas de Huelva con precio 5.9, Fresas del Maresme con precio 10, Manzanas con precio 3.5, etc.\n",
    "\n",
    "Muestra el precio por kilo de cualquiera de las frutas que has incluido en el diccionario, utilizando cualquiera de los métodos de acceso a elementos de un diccionario. **(1 punto)** <span style=\"font-family: Courier New; background-color: #82b74b; color: #000000; padding: 2px; \">NM</span>"
   ],
   "metadata": {}
  },
  {
   "cell_type": "markdown",
   "source": [
    "### Ejercicio 7\n",
    "\n",
    "Escribir un código que muestre por pantalla el precio de todas las frutas incluidas en el diccionario creado en el ejercicio anterior (accediendo al diccionario que acabas de definir). **(1 punto)** <span style=\"font-family: Courier New; background-color: #82b74b; color: #000000; padding: 2px; \">NM</span>\n",
    "\n",
    "El formato de la cadena de caracteres que muestra el precio debe ser el siguiente:\n",
    "\n",
    "```Las frutas tienen un precio de: {precios} euros```\n",
    "\n",
    "Siguiendo con el ejemplo del ejercicio anterior, habría que mostrar por pantalla:\n",
    "\n",
    "```Las frutas tienen un precio de: [5.9, 10, 3.5] euros```\n",
    "\n",
    "**Nota**: recordad que los diccionarios no tienen orden. Por lo tanto, otras ordenaciones de los precios también serían soluciones válidas, por ejemplo:\n",
    "\n",
    "```Las frutas tienen un precio de: [10, 5.9, 3.5] euros```"
   ],
   "metadata": {}
  },
  {
   "cell_type": "markdown",
   "source": [
    "### Ejercicio 8\n",
    "\n",
    "Ordenad la siguiente lista de cadenas de caracteres: **(1 punto)** <span style=\"font-family: Courier New; background-color: #ffcc5c; color: #000000; padding: 3px; \">EG</span>\n",
    "\n",
    "1. Invirtiendo el orden original\n",
    "2. En orden alfabético inverso\n",
    "\n",
    "**Nota**: Puedes consultar la documentación oficial de la función [`sorted`](https://docs.python.org/3/library/functions.html#sorted) para ver qué parámetros puedes utilizar para resolver la segunda parte de la actividad.\n",
    "\n"
   ],
   "metadata": {}
  },
  {
   "cell_type": "code",
   "execution_count": 41,
   "source": [
    "st_chars = [\"Benjamin Sisko\", \"Kira Nerys\", \"Odo\", \"Quark\", \"Jadzia Dax\"]"
   ],
   "outputs": [],
   "metadata": {}
  },
  {
   "cell_type": "markdown",
   "source": [
    "### Ejercicio 9\n",
    "\n",
    "A partir de la siguiente lista,\n",
    "\n",
    "```a_list = [42, 7.5,\" Answer to the Ultimate Question \",\" Dave \", 7.5]```\n",
    "\n",
    "proporcionad expresiones que devuelvan:\n",
    "\n",
    "1. El número de veces que aparece el elemento 7.5 en la lista.\n",
    "2. La posición de la primera aparición del valor 7.5\n",
    "3. La misma lista sin el último elemento\n",
    "\n",
    "**Nota**: En el notebook de teoría hemos visto qué son las listas y algunas operaciones sobre ellas. Para hacer la actividad, necesitaréis investigar algunas operaciones adicionales que podemos realizar sobre listas. Para ello podéis consultar la documentación oficial de Python sobre listas ([intro](https://docs.python.org/3/tutorial/introduction.html#lists) y [more on lists](https://docs.python.org/3/tutorial/datastructures.html#more-on-lists)).\n",
    "\n",
    "**(1 punto)** <span style=\"font-family: Courier New; background-color: #ffcc5c; color: #000000; padding: 3px; \">EG</span>"
   ],
   "metadata": {}
  },
  {
   "cell_type": "code",
   "execution_count": 51,
   "source": [
    "a_list = [42, 7.5, \"Answer to the Ultimate Question\", \"Dave\", 7.5]"
   ],
   "outputs": [],
   "metadata": {}
  },
  {
   "cell_type": "markdown",
   "source": [
    "### Ejercicio Opcional\n",
    "\n",
    "Escribir un programa que genere una lista de números aleatorios y calcule el producto de todos los números de la lista. Los números de la lista deberán cumplir la siguiente condición: deben ser números impares entre 0 y 100. Además, el programa tendrá que preguntar al usuario cuántos elementos debe tener la lista (el usuario introducirá el número de elementos usando el teclado) y mostrar un mensaje de error si el usuario pide generar una lista de más de 50 elementos. Haz que el programa muestre la lista generada y el producto de sus elementos. <span style=\"font-family: Courier New; background-color: #f2ae72; color: #000000; padding: 3px; \">EI</span>"
   ],
   "metadata": {}
  },
  {
   "cell_type": "code",
   "execution_count": null,
   "source": [
    "# Respuesta"
   ],
   "outputs": [],
   "metadata": {}
  },
  {
   "cell_type": "markdown",
   "source": [
    "---\n",
    "\n",
    "## Soluciones de Ejercicios para practicar"
   ],
   "metadata": {}
  },
  {
   "cell_type": "markdown",
   "source": [
    "### Ejercicio 1\n",
    "\n",
    "La forma más fácil de definir un array en Python es utilizando [ ]:"
   ],
   "metadata": {}
  },
  {
   "cell_type": "code",
   "execution_count": 8,
   "source": [
    "dias = ['Lunes', 'Martes', 'Miércoles', 'Jueves', 'Viernes', 'Sábado', 'Domingo']"
   ],
   "outputs": [],
   "metadata": {}
  },
  {
   "cell_type": "markdown",
   "source": [
    "Para acceder a los elementos de un array utilizaremos el mismo operador [ ], pero especificaremos la posición o índice del elemento al que queremos acceder. Debemos tener en cuenta que en Python, el primer elemento de una lista tiene índice 0."
   ],
   "metadata": {}
  },
  {
   "cell_type": "code",
   "execution_count": 10,
   "source": [
    "# Primer día de la setmana\r\n",
    "print (dias[0])\r\n",
    "\r\n",
    "# Penúltimo día de la setmana \r\n",
    "print (dias[-2])"
   ],
   "outputs": [
    {
     "output_type": "stream",
     "name": "stdout",
     "text": [
      "Lunes\n",
      "Sábado\n"
     ]
    }
   ],
   "metadata": {}
  },
  {
   "cell_type": "markdown",
   "source": [
    "Python nos permite utilizar un índice negativo que contaría desde el final del array hacia el principio."
   ],
   "metadata": {}
  },
  {
   "cell_type": "markdown",
   "source": [
    "### Ejercicio 2\n",
    "\n",
    "Hay diferentes maneras de conseguir el mismo resultado y después veremos algunas de ellas.\n",
    "\n",
    "La primera opción, y quizás la más simple, sería utilizar las triples comillas dobles ( \"\"\"  \"\"\"). En Python, las triples comillas dobles se interpretan de forma literal y cualquier carácter que incluya nuestra cadena será renderizado tal y como aparece en la cadena. Esto nos puede resultar útil si por ejemplo nuestra cadena incluye comillas simples y comillas dobles. Vemos el código:"
   ],
   "metadata": {}
  },
  {
   "cell_type": "code",
   "execution_count": 11,
   "source": [
    "print(\"\"\"Hello\r\n",
    "\r\n",
    "    Python\"\"\")"
   ],
   "outputs": [
    {
     "output_type": "stream",
     "name": "stdout",
     "text": [
      "Hello\n",
      "\n",
      "    Python\n"
     ]
    }
   ],
   "metadata": {}
  },
  {
   "cell_type": "markdown",
   "source": [
    "La segunda opción incluye el uso de caracteres especiales como \"\\ n\" y \"\\ t\". El primero genera un salto de línea en la salida por pantalla, mientras que el segundo genera un tabulado (TAB). Por lo tanto, nuestro código quedaría de la siguiente manera:"
   ],
   "metadata": {}
  },
  {
   "cell_type": "code",
   "execution_count": 13,
   "source": [
    "print(\"Hello\\n\\n\\tPython\")"
   ],
   "outputs": [
    {
     "output_type": "stream",
     "name": "stdout",
     "text": [
      "Hello\n",
      "\n",
      "\tPython\n"
     ]
    }
   ],
   "metadata": {}
  },
  {
   "cell_type": "markdown",
   "source": [
    "En este caso, podemos ver que la indentación de la palabra \"Python\" es superior que en el caso anterior. Esto es debido a que, por defecto, el carácter \\t genera 8 espacios en blanco para \"simular\" la tabulación.\n",
    "\n",
    "Alternativamente, podemos utilizar el siguiente código (podemos poner nosotros mismos los espacios en blanco al principio de la línea):"
   ],
   "metadata": {}
  },
  {
   "cell_type": "code",
   "execution_count": 14,
   "source": [
    "print(\"Hello\\n\\n    Python\")"
   ],
   "outputs": [
    {
     "output_type": "stream",
     "name": "stdout",
     "text": [
      "Hello\n",
      "\n",
      "    Python\n"
     ]
    }
   ],
   "metadata": {}
  },
  {
   "cell_type": "markdown",
   "source": [
    "### Ejercicio 3"
   ],
   "metadata": {}
  },
  {
   "cell_type": "code",
   "execution_count": 15,
   "source": [
    "l_1 = ['Lunes', 'Martes', 'Miércoles', 'Jueves', 'Viernes', 'Sábado', 'Domingo']\n",
    "l_2 = [1, 2, 3, 4, 5, 6, 7, 8]"
   ],
   "outputs": [],
   "metadata": {}
  },
  {
   "cell_type": "code",
   "execution_count": 16,
   "source": [
    "# 1. El último elemento de la primera lista\n",
    "print(l_1[-1])"
   ],
   "outputs": [
    {
     "output_type": "stream",
     "name": "stdout",
     "text": [
      "Domingo\n"
     ]
    }
   ],
   "metadata": {}
  },
  {
   "cell_type": "markdown",
   "source": [
    "Utilizamos un índice negativo para indicar que queremos la última posición."
   ],
   "metadata": {}
  },
  {
   "cell_type": "code",
   "execution_count": 17,
   "source": [
    "# 2. Una nueva lista con el primer elemento de cada una de las listas\n",
    "print([l_1[0], l_2[0]])"
   ],
   "outputs": [
    {
     "output_type": "stream",
     "name": "stdout",
     "text": [
      "['Lunes', 1]\n"
     ]
    }
   ],
   "metadata": {}
  },
  {
   "cell_type": "markdown",
   "source": [
    "Creamos una nueva lista utilizando `[` y `]`. Dentro de la lista ponemos los elementos indicados, accediendo a partir de su índice."
   ],
   "metadata": {}
  },
  {
   "cell_type": "code",
   "execution_count": 18,
   "source": [
    "# 3. Una nueva lista con los tres primeros elementos de la segunda lista\n",
    "print(l_2[0:3])\n",
    "\n",
    "# o equivalentmente:\n",
    "print(l_2[:3])"
   ],
   "outputs": [
    {
     "output_type": "stream",
     "name": "stdout",
     "text": [
      "[1, 2, 3]\n",
      "[1, 2, 3]\n"
     ]
    }
   ],
   "metadata": {}
  },
  {
   "cell_type": "markdown",
   "source": [
    "Indicamos que queremos los tres primeros elementos, especificando el rango `0: 3`. El cero se puede omitir, obteniendo la expresión `[: 3]` que también es válida para recuperar los mismos elementos."
   ],
   "metadata": {}
  },
  {
   "cell_type": "code",
   "execution_count": 19,
   "source": [
    "# 4. Una cadena de caracteres con el valor \"Miércoles 8\"\n",
    "print(l_1[2] + \" \" + str(l_2[-1]))"
   ],
   "outputs": [
    {
     "output_type": "stream",
     "name": "stdout",
     "text": [
      "Miércoles 8\n"
     ]
    }
   ],
   "metadata": {}
  },
  {
   "cell_type": "markdown",
   "source": [
    "Creamos la cadena concatenando el tercer elemento de la primera lista, un espacio, y el último elemento de la segunda lista."
   ],
   "metadata": {}
  }
 ],
 "metadata": {
  "kernelspec": {
   "display_name": "Python 3",
   "language": "python",
   "name": "python3"
  },
  "language_info": {
   "codemirror_mode": {
    "name": "ipython",
    "version": 3
   },
   "file_extension": ".py",
   "mimetype": "text/x-python",
   "name": "python",
   "nbconvert_exporter": "python",
   "pygments_lexer": "ipython3",
   "version": "3.6.8"
  }
 },
 "nbformat": 4,
 "nbformat_minor": 1
}